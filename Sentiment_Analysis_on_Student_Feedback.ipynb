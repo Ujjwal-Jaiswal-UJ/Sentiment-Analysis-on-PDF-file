{
 "cells": [
  {
   "cell_type": "markdown",
   "metadata": {},
   "source": [
    "### Importing the Libraries"
   ]
  },
  {
   "cell_type": "code",
   "execution_count": 1,
   "metadata": {},
   "outputs": [],
   "source": [
    "from PyPDF2 import PdfReader\n",
    "import numpy as np\n",
    "import pandas as pd"
   ]
  },
  {
   "cell_type": "markdown",
   "metadata": {},
   "source": [
    "### Reading the PFD file"
   ]
  },
  {
   "cell_type": "code",
   "execution_count": 2,
   "metadata": {},
   "outputs": [
    {
     "ename": "FileNotFoundError",
     "evalue": "[Errno 2] No such file or directory: 'UResponses.pdf'",
     "output_type": "error",
     "traceback": [
      "\u001b[1;31m---------------------------------------------------------------------------\u001b[0m",
      "\u001b[1;31mFileNotFoundError\u001b[0m                         Traceback (most recent call last)",
      "Cell \u001b[1;32mIn[2], line 1\u001b[0m\n\u001b[1;32m----> 1\u001b[0m reader \u001b[38;5;241m=\u001b[39m \u001b[43mPdfReader\u001b[49m\u001b[43m(\u001b[49m\u001b[38;5;124;43m\"\u001b[39;49m\u001b[38;5;124;43mUResponses.pdf\u001b[39;49m\u001b[38;5;124;43m\"\u001b[39;49m\u001b[43m)\u001b[49m\n\u001b[0;32m      2\u001b[0m number_of_pages \u001b[38;5;241m=\u001b[39m \u001b[38;5;28mlen\u001b[39m(reader\u001b[38;5;241m.\u001b[39mpages)\n\u001b[0;32m      3\u001b[0m page \u001b[38;5;241m=\u001b[39m reader\u001b[38;5;241m.\u001b[39mpages[\u001b[38;5;241m0\u001b[39m]\n",
      "File \u001b[1;32m~\\AppData\\Roaming\\Python\\Python311\\site-packages\\PyPDF2\\_reader.py:317\u001b[0m, in \u001b[0;36mPdfReader.__init__\u001b[1;34m(self, stream, strict, password)\u001b[0m\n\u001b[0;32m    311\u001b[0m     logger_warning(\n\u001b[0;32m    312\u001b[0m         \u001b[38;5;124m\"\u001b[39m\u001b[38;5;124mPdfReader stream/file object is not in binary mode. \u001b[39m\u001b[38;5;124m\"\u001b[39m\n\u001b[0;32m    313\u001b[0m         \u001b[38;5;124m\"\u001b[39m\u001b[38;5;124mIt may not be read correctly.\u001b[39m\u001b[38;5;124m\"\u001b[39m,\n\u001b[0;32m    314\u001b[0m         \u001b[38;5;18m__name__\u001b[39m,\n\u001b[0;32m    315\u001b[0m     )\n\u001b[0;32m    316\u001b[0m \u001b[38;5;28;01mif\u001b[39;00m \u001b[38;5;28misinstance\u001b[39m(stream, (\u001b[38;5;28mstr\u001b[39m, Path)):\n\u001b[1;32m--> 317\u001b[0m     \u001b[38;5;28;01mwith\u001b[39;00m \u001b[38;5;28;43mopen\u001b[39;49m\u001b[43m(\u001b[49m\u001b[43mstream\u001b[49m\u001b[43m,\u001b[49m\u001b[43m \u001b[49m\u001b[38;5;124;43m\"\u001b[39;49m\u001b[38;5;124;43mrb\u001b[39;49m\u001b[38;5;124;43m\"\u001b[39;49m\u001b[43m)\u001b[49m \u001b[38;5;28;01mas\u001b[39;00m fh:\n\u001b[0;32m    318\u001b[0m         stream \u001b[38;5;241m=\u001b[39m BytesIO(fh\u001b[38;5;241m.\u001b[39mread())\n\u001b[0;32m    319\u001b[0m \u001b[38;5;28mself\u001b[39m\u001b[38;5;241m.\u001b[39mread(stream)\n",
      "\u001b[1;31mFileNotFoundError\u001b[0m: [Errno 2] No such file or directory: 'UResponses.pdf'"
     ]
    }
   ],
   "source": [
    "reader = PdfReader(\"Responses.pdf\")\n",
    "number_of_pages = len(reader.pages)\n",
    "page = reader.pages[0]\n",
    "text = page.extract_text()\n",
    "texts = np.array(text.split('?'))\n",
    "print(texts)"
   ]
  },
  {
   "cell_type": "code",
   "execution_count": null,
   "metadata": {},
   "outputs": [],
   "source": [
    "type(texts)"
   ]
  },
  {
   "cell_type": "code",
   "execution_count": null,
   "metadata": {},
   "outputs": [],
   "source": [
    "print(texts.shape)"
   ]
  },
  {
   "cell_type": "markdown",
   "metadata": {},
   "source": [
    "### Cleaning the Data"
   ]
  },
  {
   "cell_type": "code",
   "execution_count": null,
   "metadata": {},
   "outputs": [],
   "source": [
    "word = \"Timestamp \"\n",
    "texts[0] = texts[0].replace(word,\"\")\n",
    "print(texts)"
   ]
  },
  {
   "cell_type": "code",
   "execution_count": null,
   "metadata": {},
   "outputs": [],
   "source": [
    "index = 15\n",
    "ques = texts[:index]\n",
    "feedback = texts[index:]\n",
    "print(\"Questions =\",ques)\n",
    "print(\"Feedbacks =\",feedback)"
   ]
  },
  {
   "cell_type": "code",
   "execution_count": null,
   "metadata": {},
   "outputs": [],
   "source": [
    "ques.shape"
   ]
  },
  {
   "cell_type": "code",
   "execution_count": null,
   "metadata": {},
   "outputs": [],
   "source": [
    "df_col = ques\n",
    "df_col"
   ]
  },
  {
   "cell_type": "code",
   "execution_count": null,
   "metadata": {},
   "outputs": [],
   "source": [
    "df_col.shape"
   ]
  },
  {
   "cell_type": "code",
   "execution_count": null,
   "metadata": {},
   "outputs": [],
   "source": [
    "s_fb = np.char.split(feedback)\n",
    "feedback = np.concatenate(s_fb)\n",
    "print(feedback)"
   ]
  },
  {
   "cell_type": "code",
   "execution_count": null,
   "metadata": {},
   "outputs": [],
   "source": [
    "feedback.shape"
   ]
  },
  {
   "cell_type": "code",
   "execution_count": null,
   "metadata": {},
   "outputs": [],
   "source": [
    "import re\n",
    "stu_fbs = feedback.copy()\n",
    "DP = r\"\\b\\d{2}/\\d{2}/\\d{4}\\b\"\n",
    "TP = r\"\\b\\d{2}:\\d{2}:\\d{2}\\b\"\n",
    "for i in range(len(stu_fbs)):\n",
    "    stu_fbs[i] = re.sub(DP,\"\",stu_fbs[i])\n",
    "    stu_fbs[i] = re.sub(TP,\"\",stu_fbs[i])\n",
    "\n",
    "print(stu_fbs)"
   ]
  },
  {
   "cell_type": "code",
   "execution_count": null,
   "metadata": {},
   "outputs": [],
   "source": [
    "word = \"5/13/2023\"\n",
    "stu_fbs[0] = stu_fbs[0].replace(word,\"\")\n",
    "print(stu_fbs)"
   ]
  },
  {
   "cell_type": "code",
   "execution_count": null,
   "metadata": {},
   "outputs": [],
   "source": [
    "index = 15\n",
    "feedback_ans = texts[index:]\n",
    "feedback_ans"
   ]
  },
  {
   "cell_type": "code",
   "execution_count": null,
   "metadata": {},
   "outputs": [],
   "source": [
    "feedback_ans\n",
    "words_to_keep = [\"Arithmetic\",\"All of the above\",\"Algebra\",\"Trigonometry\",\"Geometry\",\"Moderately Agree\",\"Strongly Agree\",\"Not yet decided\",\"Strongly disagree\",\"Strongly Disagree\",\"Moderately Disagree\",\"Not at all\",\"Some times\",\"No, I didn't\",\"Yes, I suffered\",\"None of the above\",\"Sometimes\",\"Yes\",\"never\"]\n",
    "#words_to_keep = [word.lower() for word in words_to_keep]\n",
    "join_arr = ' '.join(feedback_ans)\n",
    "for phrase in words_to_keep:\n",
    "    if ' ' in phrase:\n",
    "        join_arr = join_arr.replace(phrase,phrase.replace(' ','_'))\n",
    "\n",
    "spl_arr = join_arr.split()\n",
    "\n",
    "fil_arr = [word for word in spl_arr if word in words_to_keep or word.replace('_', ' ') in words_to_keep]\n",
    "\n",
    "fil_arr = [word.replace('_', ' ') for word in fil_arr]\n",
    "\n",
    "print(fil_arr)"
   ]
  },
  {
   "cell_type": "code",
   "execution_count": null,
   "metadata": {},
   "outputs": [],
   "source": [
    "fil_arr\n",
    "specific_word = [\"Arithmetic\",\"All of the above\",\"Algebra\",\"Trigonometry\",\"Geometry\",\"Moderately Agree\",\"Strongly Agree\",\"Not yet decided\",\"Strongly disagree\",\"Strongly Disagree\",\"Moderately Disagree\",\"Not at all\",\"Some times\",\"No, I didn't\",\"Yes, I suffered\",\"None of the above\",\"Sometimes\",\"Yes\",\"never\"]\n",
    "nested_arr = [[]]\n",
    "for word in fil_arr:\n",
    "    if word in specific_word:\n",
    "        nested_arr.append([word])\n",
    "    else:\n",
    "        nested_arr[-1].append(word)\n",
    "\n",
    "#nested_arr = np.array(nested_arr)\n",
    "print(nested_arr)"
   ]
  },
  {
   "cell_type": "code",
   "execution_count": null,
   "metadata": {},
   "outputs": [],
   "source": [
    "nested_arr = [lst for lst in nested_arr if lst]\n",
    "print(nested_arr)"
   ]
  },
  {
   "cell_type": "code",
   "execution_count": null,
   "metadata": {},
   "outputs": [],
   "source": [
    "# Words to start a new list\n",
    "start_words = [\"Arithmetic\", \"Algebra\", \"Geometry\", \"Trigonometry\",\"All of the above\"]\n",
    "\n",
    "# Initialize an empty list to hold your nested lists\n",
    "nested_list = []\n",
    "# Initialize an empty list to hold the current sublist\n",
    "sublist = []\n",
    "\n",
    "# Iterate over each list in the current list\n",
    "for lst in nested_arr:\n",
    "    # If the first element of the list is a start word, start a new sublist\n",
    "    if lst[0] in start_words:\n",
    "        # If the current sublist is not empty, add it to the nested list\n",
    "        if sublist:\n",
    "            nested_list.append(sublist)\n",
    "        # Start a new sublist with the current list\n",
    "        sublist = lst\n",
    "    else:\n",
    "        # If the first element of the list is not a start word, add the list to the current sublist\n",
    "        sublist += lst\n",
    "\n",
    "# Add the last sublist to the nested list\n",
    "if sublist:\n",
    "    nested_list.append(sublist)\n",
    "\n",
    "print(nested_list)\n"
   ]
  },
  {
   "cell_type": "code",
   "execution_count": null,
   "metadata": {},
   "outputs": [],
   "source": [
    "type(nested_list)"
   ]
  },
  {
   "cell_type": "code",
   "execution_count": null,
   "metadata": {},
   "outputs": [],
   "source": [
    "# Assuming 'nested_list' is your list\n",
    "num_rows = len(nested_list)\n",
    "num_cols = len(nested_list[0]) if nested_list else 0  # Check if the list is not empty\n",
    "\n",
    "print(\"Number of rows (sublists):\", num_rows)\n",
    "print(\"Number of columns (elements in a sublist):\", num_cols)\n"
   ]
  },
  {
   "cell_type": "markdown",
   "metadata": {},
   "source": [
    "### Converting into Data Frame"
   ]
  },
  {
   "cell_type": "code",
   "execution_count": null,
   "metadata": {},
   "outputs": [],
   "source": [
    "df_row = pd.DataFrame(nested_list)"
   ]
  },
  {
   "cell_type": "code",
   "execution_count": null,
   "metadata": {},
   "outputs": [],
   "source": [
    "df_row"
   ]
  },
  {
   "cell_type": "code",
   "execution_count": null,
   "metadata": {},
   "outputs": [],
   "source": [
    "df_col"
   ]
  },
  {
   "cell_type": "code",
   "execution_count": null,
   "metadata": {},
   "outputs": [],
   "source": [
    "col_df = pd.DataFrame(df_col.reshape(1,-1))\n",
    "print(col_df)"
   ]
  },
  {
   "cell_type": "code",
   "execution_count": null,
   "metadata": {},
   "outputs": [],
   "source": [
    "col_df.head()"
   ]
  },
  {
   "cell_type": "code",
   "execution_count": null,
   "metadata": {},
   "outputs": [],
   "source": [
    "merge_df = pd.concat([col_df,df_row],ignore_index=True)\n",
    "merge_df.head()"
   ]
  },
  {
   "cell_type": "code",
   "execution_count": null,
   "metadata": {},
   "outputs": [],
   "source": [
    "merge_df"
   ]
  },
  {
   "cell_type": "code",
   "execution_count": null,
   "metadata": {},
   "outputs": [],
   "source": [
    "merge_df.columns = merge_df.iloc[0]\n",
    "merge_df = merge_df[1:]\n",
    "merge_df = merge_df.reset_index(drop=True)\n",
    "final_df = merge_df"
   ]
  },
  {
   "cell_type": "code",
   "execution_count": null,
   "metadata": {},
   "outputs": [],
   "source": [
    "final_df"
   ]
  },
  {
   "cell_type": "markdown",
   "metadata": {},
   "source": [
    "### Applying Sentiment Analysis"
   ]
  },
  {
   "cell_type": "code",
   "execution_count": null,
   "metadata": {},
   "outputs": [],
   "source": [
    "final_df['Which part of Math is terrifying for you'].value_counts().sort_index()"
   ]
  },
  {
   "cell_type": "code",
   "execution_count": null,
   "metadata": {},
   "outputs": [],
   "source": [
    "from textblob import TextBlob\n",
    "\n",
    "opt1 = TextBlob(\"Algebra\")\n",
    "opt2 = TextBlob(\"All of the above\")\n",
    "opt3 = TextBlob(\"Arithmetic\")\n",
    "opt4 = TextBlob(\"Geometry\")\n",
    "opt5 = TextBlob(\"Trigonometry\")\n",
    "\n",
    "print(opt1.sentiment)\n",
    "print(opt2.sentiment)\n",
    "print(opt3.sentiment)\n",
    "print(opt4.sentiment)\n",
    "print(opt5.sentiment)"
   ]
  },
  {
   "cell_type": "code",
   "execution_count": null,
   "metadata": {},
   "outputs": [],
   "source": [
    "plot1 = final_df['Which part of Math is terrifying for you'].value_counts().sort_index().plot(kind='pie', title='Number of responses for the first question')"
   ]
  },
  {
   "cell_type": "code",
   "execution_count": null,
   "metadata": {},
   "outputs": [],
   "source": [
    "final_df[' Do you feel that unavailability of good Math teacher is a reason behind your fear of math'].value_counts().sort_index()"
   ]
  },
  {
   "cell_type": "code",
   "execution_count": null,
   "metadata": {},
   "outputs": [],
   "source": [
    "from textblob import TextBlob\n",
    "\n",
    "opt1 = TextBlob(\"Moderately Agree\")\n",
    "opt2 = TextBlob(\"Moderately Disagree\")\n",
    "opt3 = TextBlob(\"Not yet decided\")\n",
    "opt4 = TextBlob(\"Strongly Agree\")\n",
    "opt5 = TextBlob(\"Strongly disagree\")\n",
    "\n",
    "print(opt1.sentiment)\n",
    "print(opt2.sentiment)\n",
    "print(opt3.sentiment)\n",
    "print(opt4.sentiment)\n",
    "print(opt5.sentiment)"
   ]
  },
  {
   "cell_type": "code",
   "execution_count": null,
   "metadata": {},
   "outputs": [],
   "source": [
    "sen_ana_feed2 = final_df[' Do you feel that unavailability of good Math teacher is a reason behind your fear of math']\n",
    "feedback_count = final_df[' Do you feel that unavailability of good Math teacher is a reason behind your fear of math'].value_counts()\n",
    "sentiment_scores = {\n",
    "    \"Strongly Agree\": 2,\n",
    "    \"Moderately Agree\": 1,\n",
    "    \"Not yet decided\": 0,\n",
    "    \"Moderately Disagree\": -1,\n",
    "    \"Strongly disagree\": -2\n",
    "}\n",
    "\n",
    "sentiment_score_df = pd.DataFrame({\n",
    "    'feedback': feedback_count.index,\n",
    "    'count': feedback_count.values \n",
    "})\n",
    "\n",
    "final_df['sentiment_score'] = sen_ana_feed2.map(sentiment_scores)\n",
    "sentiment_score_df['sentiment_score'] = sentiment_score_df['feedback'].map(sentiment_scores)\n",
    "\n",
    "# Calculate the average sentiment score\n",
    "average_sentiment_score = final_df['sentiment_score'].mean()\n",
    "sentiment_score_df['total_sentiment_score'] = sentiment_score_df['count'] * sentiment_score_df['sentiment_score']/sum(feedback_count.values)\n",
    "\n",
    "print(\" Do you feel that unavailability of good Math teacher is a reason behind your fear of math\")\n",
    "print('----------------------------------------------------------------------------------------------------------------------')\n",
    "print(sentiment_score_df)\n",
    "print('----------------------------------------------------------------------------------------------------------------------')\n",
    "print(\"The average sentiment score is:\", average_sentiment_score)"
   ]
  },
  {
   "cell_type": "code",
   "execution_count": null,
   "metadata": {},
   "outputs": [],
   "source": [
    "plot2 = final_df[' Do you feel that unavailability of good Math teacher is a reason behind your fear of math'].value_counts().sort_index().plot(kind='pie', title='Number of responses for the second question')"
   ]
  },
  {
   "cell_type": "code",
   "execution_count": null,
   "metadata": {},
   "outputs": [],
   "source": [
    "final_df['  Do you get frustrated or frightened when you fail to solve problems repeatedly'].value_counts().sort_index()"
   ]
  },
  {
   "cell_type": "code",
   "execution_count": null,
   "metadata": {},
   "outputs": [],
   "source": [
    "sen_ana_feed3 = final_df['  Do you get frustrated or frightened when you fail to solve problems repeatedly']\n",
    "feedback_count = final_df['  Do you get frustrated or frightened when you fail to solve problems repeatedly'].value_counts()\n",
    "sentiment_scores = {\n",
    "    \"Strongly Agree\": 2,\n",
    "    \"Moderately Agree\": 1,\n",
    "    \"Not yet decided\": 0,\n",
    "    \"Moderately Disagree\": -1,\n",
    "    \"Strongly Disagree\": -2\n",
    "}\n",
    "\n",
    "sentiment_score_df = pd.DataFrame({\n",
    "    'feedback': feedback_count.index,\n",
    "    'count': feedback_count.values \n",
    "})\n",
    "\n",
    "final_df['sentiment_score'] = sen_ana_feed3.map(sentiment_scores)\n",
    "sentiment_score_df['sentiment_score'] = sentiment_score_df['feedback'].map(sentiment_scores)\n",
    "\n",
    "# Calculate the average sentiment score\n",
    "average_sentiment_score = final_df['sentiment_score'].mean()\n",
    "sentiment_score_df['total_sentiment_score'] = sentiment_score_df['count'] * sentiment_score_df['sentiment_score']/sum(feedback_count.values)\n",
    "\n",
    "print(\"Do you get frustrated or frightened when you fail to solve problems repeatedly\")\n",
    "print('----------------------------------------------------------------------------------------------------------------------')\n",
    "print(sentiment_score_df)\n",
    "print('----------------------------------------------------------------------------------------------------------------------')\n",
    "print(\"The average sentiment score is:\", average_sentiment_score)"
   ]
  },
  {
   "cell_type": "code",
   "execution_count": null,
   "metadata": {},
   "outputs": [],
   "source": [
    "plot3 = final_df['  Do you get frustrated or frightened when you fail to solve problems repeatedly'].value_counts().sort_index().plot(kind='pie', title='Number of responses for the third question')"
   ]
  },
  {
   "cell_type": "code",
   "execution_count": null,
   "metadata": {},
   "outputs": [],
   "source": [
    "final_df[' Do you feel rote learning of mathematics increase Math phobia'].value_counts().sort_index()"
   ]
  },
  {
   "cell_type": "code",
   "execution_count": null,
   "metadata": {},
   "outputs": [],
   "source": [
    "opt1 = TextBlob(\"No, I didn't\")\n",
    "opt2 = TextBlob(\"Not at all\")\n",
    "opt3 = TextBlob(\"Some times\")\n",
    "print(opt1.sentiment)\n",
    "print(opt2.sentiment)\n",
    "print(opt3.sentiment)"
   ]
  },
  {
   "cell_type": "code",
   "execution_count": null,
   "metadata": {},
   "outputs": [],
   "source": [
    "sen_ana_feed4 = final_df[' Do you feel rote learning of mathematics increase Math phobia']\n",
    "feedback_count = final_df[' Do you feel rote learning of mathematics increase Math phobia'].value_counts()\n",
    "sentiment_scores = {\n",
    "    \"Strongly Agree\": 3,\n",
    "    \"Moderately Agree\": 2,\n",
    "    \"Not yet decided\": 0,\n",
    "    \"Moderately Disagree\": -2,\n",
    "    \"Strongly Disagree\": -3,\n",
    "    \"No, I didn't\": 0.5,\n",
    "    \"Not at all\": -1,\n",
    "    \"Some times\": 1\n",
    "}\n",
    "\n",
    "sentiment_score_df = pd.DataFrame({\n",
    "    'feedback': feedback_count.index,\n",
    "    'count': feedback_count.values \n",
    "})\n",
    "\n",
    "final_df['sentiment_score'] = sen_ana_feed4.map(sentiment_scores)\n",
    "sentiment_score_df['sentiment_score'] = sentiment_score_df['feedback'].map(sentiment_scores)\n",
    "\n",
    "# Calculate the average sentiment score\n",
    "average_sentiment_score = final_df['sentiment_score'].mean()\n",
    "sentiment_score_df['total_sentiment_score'] = sentiment_score_df['count'] * sentiment_score_df['sentiment_score']/sum(feedback_count.values)\n",
    "\n",
    "print(\" Do you feel rote learning of mathematics increase Math phobia\")\n",
    "print('----------------------------------------------------------------------------------------------------------------------')\n",
    "print(sentiment_score_df)\n",
    "print('----------------------------------------------------------------------------------------------------------------------')\n",
    "print(\"The average sentiment score is:\", average_sentiment_score)"
   ]
  },
  {
   "cell_type": "code",
   "execution_count": null,
   "metadata": {},
   "outputs": [],
   "source": [
    "plot4 = final_df[' Do you feel rote learning of mathematics increase Math phobia'].value_counts().sort_index().plot(kind='pie', title='Number of responses for the fourth question')"
   ]
  },
  {
   "cell_type": "code",
   "execution_count": null,
   "metadata": {},
   "outputs": [],
   "source": [
    "final_df[' Do you have Dyscalculia'].value_counts().sort_index()"
   ]
  },
  {
   "cell_type": "code",
   "execution_count": null,
   "metadata": {},
   "outputs": [],
   "source": [
    "sen_ana_feed5 = final_df[' Do you have Dyscalculia']\n",
    "feedback_count = final_df[' Do you have Dyscalculia'].value_counts()\n",
    "sentiment_scores = {\n",
    "    \"Strongly Agree\": 3,\n",
    "    \"Moderately Agree\": 2,\n",
    "    \"Not yet decided\": 0,\n",
    "    \"Moderately Disagree\": -2,\n",
    "    \"Strongly disagree\": -3,\n",
    "    \"No, I didn't\": 0.5,\n",
    "    \"None of the above\": 0,\n",
    "    \"Not at all\": -1,\n",
    "    \"Some times\": 1,\n",
    "    \"Yes, I suffered\": -0.5\n",
    "}\n",
    "\n",
    "sentiment_score_df = pd.DataFrame({\n",
    "    'feedback': feedback_count.index,\n",
    "    'count': feedback_count.values \n",
    "})\n",
    "\n",
    "final_df['sentiment_score'] = sen_ana_feed5.map(sentiment_scores)\n",
    "sentiment_score_df['sentiment_score'] = sentiment_score_df['feedback'].map(sentiment_scores)\n",
    "\n",
    "# Calculate the average sentiment score\n",
    "average_sentiment_score = final_df['sentiment_score'].mean()\n",
    "sentiment_score_df['total_sentiment_score'] = sentiment_score_df['count'] * sentiment_score_df['sentiment_score']/sum(feedback_count.values)\n",
    "\n",
    "print(\" Do you have Dyscalculia\")\n",
    "print('----------------------------------------------------------------------------------------------------------------------')\n",
    "print(sentiment_score_df)\n",
    "print('----------------------------------------------------------------------------------------------------------------------')\n",
    "print(\"The average sentiment score is:\", average_sentiment_score)"
   ]
  },
  {
   "cell_type": "code",
   "execution_count": null,
   "metadata": {},
   "outputs": [],
   "source": [
    "plot5 = final_df[' Do you have Dyscalculia'].value_counts().sort_index().plot(kind='pie', title='Number of responses for the fifth question')"
   ]
  },
  {
   "cell_type": "code",
   "execution_count": null,
   "metadata": {},
   "outputs": [],
   "source": [
    "final_df[' Do you think psychological disorder is one of the reasons behind Math phobia'].value_counts().sort_index()"
   ]
  },
  {
   "cell_type": "code",
   "execution_count": null,
   "metadata": {},
   "outputs": [],
   "source": [
    "sen_ana_feed6 = final_df[' Do you think psychological disorder is one of the reasons behind Math phobia']\n",
    "feedback_count = final_df[' Do you think psychological disorder is one of the reasons behind Math phobia'].value_counts()\n",
    "sentiment_scores = {\n",
    "    \"Strongly Agree\": 2,\n",
    "    \"Moderately Agree\": 1,\n",
    "    \"Not yet decided\": 0,\n",
    "    \"Moderately Disagree\": -1,\n",
    "    \"Strongly Disagree\": -2\n",
    "}\n",
    "\n",
    "sentiment_score_df = pd.DataFrame({\n",
    "    'feedback': feedback_count.index,\n",
    "    'count': feedback_count.values \n",
    "})\n",
    "\n",
    "final_df['sentiment_score'] = sen_ana_feed6.map(sentiment_scores)\n",
    "sentiment_score_df['sentiment_score'] = sentiment_score_df['feedback'].map(sentiment_scores)\n",
    "\n",
    "# Calculate the average sentiment score\n",
    "average_sentiment_score = final_df['sentiment_score'].mean()\n",
    "sentiment_score_df['total_sentiment_score'] = sentiment_score_df['count'] * sentiment_score_df['sentiment_score']/sum(feedback_count.values)\n",
    "\n",
    "print(\" Do you think psychological disorder is one of the reason behind Math phobia\")\n",
    "print('----------------------------------------------------------------------------------------------------------------------')\n",
    "print(sentiment_score_df)\n",
    "print('----------------------------------------------------------------------------------------------------------------------')\n",
    "print(\"The average sentiment score is:\", average_sentiment_score)"
   ]
  },
  {
   "cell_type": "code",
   "execution_count": null,
   "metadata": {},
   "outputs": [],
   "source": [
    "plot6 = final_df[' Do you think psychological disorder is one of the reasons behind Math phobia'].value_counts().sort_index().plot(kind='pie', title='Number of responses for the sixth question')"
   ]
  },
  {
   "cell_type": "code",
   "execution_count": null,
   "metadata": {},
   "outputs": [],
   "source": [
    "final_df[' Do you think lack of concentration is one of the reasons behind your fear of math'].value_counts().sort_index()"
   ]
  },
  {
   "cell_type": "code",
   "execution_count": null,
   "metadata": {},
   "outputs": [],
   "source": [
    "sen_ana_feed7 = final_df[' Do you think lack of concentration is one of the reasons behind your fear of math']\n",
    "feedback_count = final_df[' Do you think lack of concentration is one of the reasons behind your fear of math'].value_counts()\n",
    "sentiment_scores = {\n",
    "    \"Strongly Agree\": 2,\n",
    "    \"Moderately Agree\": 1,\n",
    "    \"Not yet decided\": 0,\n",
    "    \"Moderately Disagree\": -1,\n",
    "    \"Strongly Disagree\": -2\n",
    "}\n",
    "\n",
    "sentiment_score_df = pd.DataFrame({\n",
    "    'feedback': feedback_count.index,\n",
    "    'count': feedback_count.values \n",
    "})\n",
    "\n",
    "final_df['sentiment_score'] = sen_ana_feed7.map(sentiment_scores)\n",
    "sentiment_score_df['sentiment_score'] = sentiment_score_df['feedback'].map(sentiment_scores)\n",
    "\n",
    "# Calculate the average sentiment score\n",
    "average_sentiment_score = final_df['sentiment_score'].mean()\n",
    "sentiment_score_df['total_sentiment_score'] = sentiment_score_df['count'] * sentiment_score_df['sentiment_score']/sum(feedback_count.values)\n",
    "\n",
    "print(\" Do you think lack of conventration is one of the reasons behind your fear of math\")\n",
    "print('----------------------------------------------------------------------------------------------------------------------')\n",
    "print(sentiment_score_df)\n",
    "print('----------------------------------------------------------------------------------------------------------------------')\n",
    "print(\"The average sentiment score is:\", average_sentiment_score)"
   ]
  },
  {
   "cell_type": "code",
   "execution_count": null,
   "metadata": {},
   "outputs": [],
   "source": [
    "plot7 = final_df[' Do you think lack of concentration is one of the reasons behind your fear of math'].value_counts().sort_index().plot(kind='pie', title='Number of responses for the seventh question')"
   ]
  },
  {
   "cell_type": "code",
   "execution_count": null,
   "metadata": {},
   "outputs": [],
   "source": [
    "final_df[' Do you think unclear concepts of the topics are the reasons behind Math phobia'].value_counts().sort_index()"
   ]
  },
  {
   "cell_type": "code",
   "execution_count": null,
   "metadata": {},
   "outputs": [],
   "source": [
    "sen_ana_feed8 = final_df[' Do you think unclear concepts of the topics are the reasons behind Math phobia']\n",
    "feedback_count = final_df[' Do you think unclear concepts of the topics are the reasons behind Math phobia'].value_counts()\n",
    "sentiment_scores = {\n",
    "    \"Strongly Agree\": 2,\n",
    "    \"Moderately Agree\": 1,\n",
    "    \"Not yet decided\": 0,\n",
    "    \"Moderately Disagree\": -1,\n",
    "    \"Strongly Disagree\": -2\n",
    "}\n",
    "\n",
    "sentiment_score_df = pd.DataFrame({\n",
    "    'feedback': feedback_count.index,\n",
    "    'count': feedback_count.values \n",
    "})\n",
    "\n",
    "final_df['sentiment_score'] = sen_ana_feed8.map(sentiment_scores)\n",
    "sentiment_score_df['sentiment_score'] = sentiment_score_df['feedback'].map(sentiment_scores)\n",
    "\n",
    "# Calculate the average sentiment score\n",
    "average_sentiment_score = final_df['sentiment_score'].mean()\n",
    "sentiment_score_df['total_sentiment_score'] = sentiment_score_df['count'] * sentiment_score_df['sentiment_score']/sum(feedback_count.values)\n",
    "\n",
    "print(\" Do you think unclear concepts of the topics are the reasons behind Math phobia\")\n",
    "print('----------------------------------------------------------------------------------------------------------------------')\n",
    "print(sentiment_score_df)\n",
    "print('----------------------------------------------------------------------------------------------------------------------')\n",
    "print(\"The average sentiment score is:\", average_sentiment_score)"
   ]
  },
  {
   "cell_type": "code",
   "execution_count": null,
   "metadata": {},
   "outputs": [],
   "source": [
    "plot8 = final_df[' Do you think unclear concepts of the topics are the reasons behind Math phobia'].value_counts().sort_index().plot(kind='pie', title='Number of responses for the eighth question')"
   ]
  },
  {
   "cell_type": "code",
   "execution_count": null,
   "metadata": {},
   "outputs": [],
   "source": [
    "final_df[' Do you think Yoga can solve the Math phobia'].value_counts().sort_index()"
   ]
  },
  {
   "cell_type": "code",
   "execution_count": null,
   "metadata": {},
   "outputs": [],
   "source": [
    "sen_ana_feed9 = final_df[' Do you think Yoga can solve the Math phobia']\n",
    "feedback_count = final_df[' Do you think Yoga can solve the Math phobia'].value_counts()\n",
    "sentiment_scores = {\n",
    "    \"Strongly Agree\": 2,\n",
    "    \"Moderately Agree\": 1,\n",
    "    \"Not yet decided\": 0,\n",
    "    \"Moderately Disagree\": -1,\n",
    "    \"Strongly Disagree\": -2\n",
    "}\n",
    "\n",
    "sentiment_score_df = pd.DataFrame({\n",
    "    'feedback': feedback_count.index,\n",
    "    'count': feedback_count.values \n",
    "})\n",
    "\n",
    "final_df['sentiment_score'] = sen_ana_feed9.map(sentiment_scores)\n",
    "sentiment_score_df['sentiment_score'] = sentiment_score_df['feedback'].map(sentiment_scores)\n",
    "\n",
    "# Calculate the average sentiment score\n",
    "average_sentiment_score = final_df['sentiment_score'].mean()\n",
    "sentiment_score_df['total_sentiment_score'] = sentiment_score_df['count'] * sentiment_score_df['sentiment_score']/sum(feedback_count.values)\n",
    "\n",
    "print(\" Do you think Yoga can solve the Math phobia\")\n",
    "print('----------------------------------------------------------------------------------------------------------------------')\n",
    "print(sentiment_score_df)\n",
    "print('----------------------------------------------------------------------------------------------------------------------')\n",
    "print(\"The average sentiment score is:\", average_sentiment_score)"
   ]
  },
  {
   "cell_type": "code",
   "execution_count": null,
   "metadata": {},
   "outputs": [],
   "source": [
    "plot9 = final_df[' Do you think Yoga can solve the Math phobia'].value_counts().sort_index().plot(kind='pie', title='Number of responses for the ninth question')"
   ]
  },
  {
   "cell_type": "code",
   "execution_count": null,
   "metadata": {},
   "outputs": [],
   "source": [
    "final_df[' Do you think Math phobia is caused due to the pressure of performing well'].value_counts().sort_index()"
   ]
  },
  {
   "cell_type": "code",
   "execution_count": null,
   "metadata": {},
   "outputs": [],
   "source": [
    "sen_ana_feed10 = final_df[' Do you think Math phobia is caused due to the pressure of performing well']\n",
    "feedback_count = final_df[' Do you think Math phobia is caused due to the pressure of performing well'].value_counts()\n",
    "sentiment_scores = {\n",
    "    \"Strongly Agree\": 2,\n",
    "    \"Moderately Agree\": 1,\n",
    "    \"Not yet decided\": 0,\n",
    "    \"Moderately Disagree\": -1,\n",
    "    \"Strongly Disagree\": -2\n",
    "}\n",
    "\n",
    "sentiment_score_df = pd.DataFrame({\n",
    "    'feedback': feedback_count.index,\n",
    "    'count': feedback_count.values \n",
    "})\n",
    "\n",
    "final_df['sentiment_score'] = sen_ana_feed10.map(sentiment_scores)\n",
    "sentiment_score_df['sentiment_score'] = sentiment_score_df['feedback'].map(sentiment_scores)\n",
    "\n",
    "# Calculate the average sentiment score\n",
    "average_sentiment_score = final_df['sentiment_score'].mean()\n",
    "sentiment_score_df['total_sentiment_score'] = sentiment_score_df['count'] * sentiment_score_df['sentiment_score']/sum(feedback_count.values)\n",
    "\n",
    "print(\" Do you think Math phobia is caused due to the presure of performing well\")\n",
    "print('----------------------------------------------------------------------------------------------------------------------')\n",
    "print(sentiment_score_df)\n",
    "print('----------------------------------------------------------------------------------------------------------------------')\n",
    "print(\"The average sentiment score is:\", average_sentiment_score)"
   ]
  },
  {
   "cell_type": "code",
   "execution_count": null,
   "metadata": {},
   "outputs": [],
   "source": [
    "plot10 = final_df[' Do you think Math phobia is caused due to the pressure of performing well'].value_counts().sort_index().plot(kind='pie', title='Number of responses for the tenth question')"
   ]
  },
  {
   "cell_type": "code",
   "execution_count": null,
   "metadata": {},
   "outputs": [],
   "source": [
    "final_df[' Do you feel Mathematics phobia arises because you are not able to connect Mathematics with the real world'].value_counts().sort_index()"
   ]
  },
  {
   "cell_type": "code",
   "execution_count": null,
   "metadata": {},
   "outputs": [],
   "source": [
    "sen_ana_feed11 = final_df[' Do you feel Mathematics phobia arises because you are not able to connect Mathematics with the real world']\n",
    "feedback_count = final_df[' Do you feel Mathematics phobia arises because you are not able to connect Mathematics with the real world'].value_counts()\n",
    "sentiment_scores = {\n",
    "    \"Strongly Agree\": 2,\n",
    "    \"Moderately Agree\": 1,\n",
    "    \"Not yet decided\": 0,\n",
    "    \"Moderately Disagree\": -1,\n",
    "    \"Strongly Disagree\": -2\n",
    "}\n",
    "\n",
    "sentiment_score_df = pd.DataFrame({\n",
    "    'feedback': feedback_count.index,\n",
    "    'count': feedback_count.values \n",
    "})\n",
    "\n",
    "final_df['sentiment_score'] = sen_ana_feed11.map(sentiment_scores)\n",
    "sentiment_score_df['sentiment_score'] = sentiment_score_df['feedback'].map(sentiment_scores)\n",
    "\n",
    "# Calculate the average sentiment score\n",
    "average_sentiment_score = final_df['sentiment_score'].mean()\n",
    "sentiment_score_df['total_sentiment_score'] = sentiment_score_df['count'] * sentiment_score_df['sentiment_score']/sum(feedback_count.values)\n",
    "\n",
    "print(\" Do you feel that unavailability of good Math teacher is a reason behind your fear of math\")\n",
    "print('----------------------------------------------------------------------------------------------------------------------')\n",
    "print(sentiment_score_df)\n",
    "print('----------------------------------------------------------------------------------------------------------------------')\n",
    "print(\"The average sentiment score is:\", average_sentiment_score)"
   ]
  },
  {
   "cell_type": "code",
   "execution_count": null,
   "metadata": {},
   "outputs": [],
   "source": [
    "plot11 = final_df[' Do you feel Mathematics phobia arises because you are not able to connect Mathematics with the real world'].value_counts().sort_index().plot(kind='pie', title='Number of responses for the eleventh question')"
   ]
  },
  {
   "cell_type": "code",
   "execution_count": null,
   "metadata": {},
   "outputs": [],
   "source": [
    "final_df[' Do you agree that regular practice of Mathematics can solve the problems related to Math phobia'].value_counts().sort_index()"
   ]
  },
  {
   "cell_type": "code",
   "execution_count": null,
   "metadata": {},
   "outputs": [],
   "source": [
    "sen_ana_feed12 = final_df[' Do you agree that regular practice of Mathematics can solve the problems related to Math phobia']\n",
    "feedback_count = final_df[' Do you agree that regular practice of Mathematics can solve the problems related to Math phobia'].value_counts()\n",
    "sentiment_scores = {\n",
    "    \"Strongly Agree\": 2,\n",
    "    \"Moderately Agree\": 1,\n",
    "    \"Not yet decided\": 0,\n",
    "    \"Moderately Disagree\": -1,\n",
    "    \"Strongly Disagree\": -2\n",
    "}\n",
    "\n",
    "sentiment_score_df = pd.DataFrame({\n",
    "    'feedback': feedback_count.index,\n",
    "    'count': feedback_count.values \n",
    "})\n",
    "\n",
    "final_df['sentiment_score'] = sen_ana_feed12.map(sentiment_scores)\n",
    "sentiment_score_df['sentiment_score'] = sentiment_score_df['feedback'].map(sentiment_scores)\n",
    "\n",
    "# Calculate the average sentiment score\n",
    "average_sentiment_score = final_df['sentiment_score'].mean()\n",
    "sentiment_score_df['total_sentiment_score'] = sentiment_score_df['count'] * sentiment_score_df['sentiment_score']/sum(feedback_count.values)\n",
    "\n",
    "print(\" Do you agree that regular practice of Mathematics can solve the problems related to Math phobia\")\n",
    "print('----------------------------------------------------------------------------------------------------------------------')\n",
    "print(sentiment_score_df)\n",
    "print('----------------------------------------------------------------------------------------------------------------------')\n",
    "print(\"The average sentiment score is:\", average_sentiment_score)"
   ]
  },
  {
   "cell_type": "code",
   "execution_count": null,
   "metadata": {},
   "outputs": [],
   "source": [
    "plot12 = final_df[' Do you agree that regular practice of Mathematics can solve the problems related to Math phobia'].value_counts().sort_index().plot(kind='pie', title='Number of responses for the twelveth question')"
   ]
  },
  {
   "cell_type": "code",
   "execution_count": null,
   "metadata": {},
   "outputs": [],
   "source": [
    "final_df[' Does breaking up a complicated problem into smaller part help in betterment'].value_counts().sort_index()"
   ]
  },
  {
   "cell_type": "code",
   "execution_count": null,
   "metadata": {},
   "outputs": [],
   "source": [
    "sen_ana_feed13 = final_df[' Does breaking up a complicated problem into smaller part help in betterment']\n",
    "feedback_count = final_df[' Does breaking up a complicated problem into smaller part help in betterment'].value_counts()\n",
    "sentiment_scores = {\n",
    "    \"Strongly Agree\": 3,\n",
    "    \"Moderately Agree\": 2,\n",
    "    \"Not yet decided\": 0,\n",
    "    \"Moderately Disagree\": -2,\n",
    "    \"Strongly Disagree\": -3,\n",
    "    \"Sometimes\": 0,\n",
    "    \"Yes\": 1,\n",
    "    \"never\": -1 \n",
    "}\n",
    "\n",
    "sentiment_score_df = pd.DataFrame({\n",
    "    'feedback': feedback_count.index,\n",
    "    'count': feedback_count.values \n",
    "})\n",
    "\n",
    "final_df['sentiment_score'] = sen_ana_feed13.map(sentiment_scores)\n",
    "sentiment_score_df['sentiment_score'] = sentiment_score_df['feedback'].map(sentiment_scores)\n",
    "\n",
    "# Calculate the average sentiment score\n",
    "average_sentiment_score = final_df['sentiment_score'].mean()\n",
    "sentiment_score_df['total_sentiment_score'] = sentiment_score_df['count'] * sentiment_score_df['sentiment_score']/sum(feedback_count.values)\n",
    "\n",
    "print(\" Does breaking up a complicated problem into smaller part help in betterment\")\n",
    "print('----------------------------------------------------------------------------------------------------------------------')\n",
    "print(sentiment_score_df)\n",
    "print('----------------------------------------------------------------------------------------------------------------------')\n",
    "print(\"The average sentiment score is:\", average_sentiment_score)"
   ]
  },
  {
   "cell_type": "code",
   "execution_count": null,
   "metadata": {},
   "outputs": [],
   "source": [
    "plot13 = final_df[' Does breaking up a complicated problem into smaller part help in betterment'].value_counts().sort_index().plot(kind='pie', title='Number of responses for the thirteenth question')"
   ]
  },
  {
   "cell_type": "code",
   "execution_count": null,
   "metadata": {},
   "outputs": [],
   "source": [
    "final_df[' Does studying in peer groups and seeking help from teacher help to eradicate Math phobia'].value_counts().sort_index()"
   ]
  },
  {
   "cell_type": "code",
   "execution_count": null,
   "metadata": {},
   "outputs": [],
   "source": [
    "sen_ana_feed14 = final_df[' Does studying in peer groups and seeking help from teacher help to eradicate Math phobia']\n",
    "feedback_count = final_df[' Does studying in peer groups and seeking help from teacher help to eradicate Math phobia'].value_counts()\n",
    "sentiment_scores = {\n",
    "    \"Moderately Agree\": 3,\n",
    "    \"Moderately Disagree\": -1,\n",
    "    \"Sometimes\": 2,\n",
    "    \"Strongly Disagree\": -2,\n",
    "    \"Yes\": 1,\n",
    "    \"never\": -3\n",
    "}\n",
    "\n",
    "sentiment_score_df = pd.DataFrame({\n",
    "    'feedback': feedback_count.index,\n",
    "    'count': feedback_count.values \n",
    "})\n",
    "\n",
    "final_df['sentiment_score'] = sen_ana_feed14.map(sentiment_scores)\n",
    "sentiment_score_df['sentiment_score'] = sentiment_score_df['feedback'].map(sentiment_scores)\n",
    "\n",
    "# Calculate the average sentiment score\n",
    "average_sentiment_score = final_df['sentiment_score'].mean()\n",
    "sentiment_score_df['total_sentiment_score'] = sentiment_score_df['count'] * sentiment_score_df['sentiment_score']/sum(feedback_count.values)\n",
    "\n",
    "print(\" Does studying in peer groups and seeking help from teacher help to eradicate Math phobia\")\n",
    "print('----------------------------------------------------------------------------------------------------------------------')\n",
    "print(sentiment_score_df)\n",
    "print('----------------------------------------------------------------------------------------------------------------------')\n",
    "print(\"The average sentiment score is:\", average_sentiment_score)"
   ]
  },
  {
   "cell_type": "code",
   "execution_count": null,
   "metadata": {},
   "outputs": [],
   "source": [
    "plot14 = final_df[' Does studying in peer groups and seeking help from teacher help to eradicate Math phobia'].value_counts().sort_index().plot(kind='pie', title='Number of responses for forteenth question')"
   ]
  },
  {
   "cell_type": "code",
   "execution_count": null,
   "metadata": {},
   "outputs": [],
   "source": [
    "final_df[' Does frequent mock tests help to release the pressure'].value_counts().sort_index()"
   ]
  },
  {
   "cell_type": "code",
   "execution_count": null,
   "metadata": {},
   "outputs": [],
   "source": [
    "sen_ana_feed15 = final_df[' Does frequent mock tests help to release the pressure']\n",
    "feedback_count = final_df[' Does frequent mock tests help to release the pressure'].value_counts()\n",
    "sentiment_scores = {\n",
    "    \"Moderately Agree\": 1,\n",
    "    \"Not yet decided\": 0,\n",
    "    \"Moderately Disagree\": -1,\n",
    "    \"Strongly Disagree\": -2\n",
    "}\n",
    "\n",
    "sentiment_score_df = pd.DataFrame({\n",
    "    'feedback': feedback_count.index,\n",
    "    'count': feedback_count.values \n",
    "})\n",
    "\n",
    "final_df['sentiment_score'] = sen_ana_feed15.map(sentiment_scores)\n",
    "sentiment_score_df['sentiment_score'] = sentiment_score_df['feedback'].map(sentiment_scores)/sum(feedback_count.values)\n",
    "\n",
    "# Calculate the average sentiment score\n",
    "average_sentiment_score = final_df['sentiment_score'].mean()\n",
    "sentiment_score_df['total_sentiment_score'] = sentiment_score_df['count'] * sentiment_score_df['sentiment_score']\n",
    "\n",
    "print(\" Does frequent mock tests help to release the pressure\")\n",
    "print('----------------------------------------------------------------------------------------------------------------------')\n",
    "print(sentiment_score_df)\n",
    "print('----------------------------------------------------------------------------------------------------------------------')\n",
    "print(\"The average sentiment score is:\", average_sentiment_score)"
   ]
  },
  {
   "cell_type": "code",
   "execution_count": null,
   "metadata": {},
   "outputs": [],
   "source": [
    "plot15 = final_df[' Does frequent mock tests help to release the pressure'].value_counts().sort_index().plot(kind='pie', title='Number of responses for the fifteenth question')"
   ]
  },
  {
   "cell_type": "code",
   "execution_count": null,
   "metadata": {},
   "outputs": [],
   "source": [
    "from textblob import TextBlob\n",
    "\n",
    "def analyze_sentiment(final_df, row_index):\n",
    "    sentiments = []\n",
    "    for question in final_df.columns:\n",
    "        feedback = str(final_df.loc[row_index, question])\n",
    "        sentiment = TextBlob(feedback).sentiment.polarity\n",
    "        sentiments.append(sentiment)\n",
    "    return sentiments\n"
   ]
  },
  {
   "cell_type": "code",
   "execution_count": null,
   "metadata": {},
   "outputs": [],
   "source": [
    "row_index = 17 # change this to the index of the row you want to analyze\n",
    "sentiments = analyze_sentiment(final_df, row_index)\n",
    "res = sum(sentiments)/15\n",
    "if 0<= res <=0.12:\n",
    "    print(\"Confident\")\n",
    "else:\n",
    "    print(\"Under-Confident\")\n",
    "\n",
    "print(\"Sttudent sentiment analysis score:\",res)"
   ]
  }
 ],
 "metadata": {
  "kernelspec": {
   "display_name": "Python 3",
   "language": "python",
   "name": "python3"
  },
  "language_info": {
   "codemirror_mode": {
    "name": "ipython",
    "version": 3
   },
   "file_extension": ".py",
   "mimetype": "text/x-python",
   "name": "python",
   "nbconvert_exporter": "python",
   "pygments_lexer": "ipython3",
   "version": "3.11.8"
  }
 },
 "nbformat": 4,
 "nbformat_minor": 2
}
